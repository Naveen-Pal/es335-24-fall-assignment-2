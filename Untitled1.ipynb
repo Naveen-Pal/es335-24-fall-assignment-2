{
 "cells": [
  {
   "cell_type": "code",
   "execution_count": 7,
   "id": "5ff5f271-0a75-454e-9cf4-97fa1f709573",
   "metadata": {},
   "outputs": [
    {
     "ename": "KeyboardInterrupt",
     "evalue": "",
     "output_type": "error",
     "traceback": [
      "\u001b[1;31m---------------------------------------------------------------------------\u001b[0m",
      "\u001b[1;31mKeyboardInterrupt\u001b[0m                         Traceback (most recent call last)",
      "    \u001b[1;31m[... skipping hidden 1 frame]\u001b[0m\n",
      "Cell \u001b[1;32mIn[7], line 33\u001b[0m\n\u001b[0;32m     32\u001b[0m model \u001b[38;5;241m=\u001b[39m LinearRegression()\n\u001b[1;32m---> 33\u001b[0m \u001b[43mmodel\u001b[49m\u001b[38;5;241;43m.\u001b[39;49m\u001b[43mfit\u001b[49m\u001b[43m(\u001b[49m\u001b[43mZ\u001b[49m\u001b[43m,\u001b[49m\u001b[43m \u001b[49m\u001b[43my\u001b[49m\u001b[43m)\u001b[49m\n\u001b[0;32m     34\u001b[0m reconstructed[:,i] \u001b[38;5;241m=\u001b[39m model\u001b[38;5;241m.\u001b[39mpredict(Z)\n",
      "File \u001b[1;32m~\\AppData\\Roaming\\Python\\Python311\\site-packages\\sklearn\\base.py:1147\u001b[0m, in \u001b[0;36m_fit_context.<locals>.decorator.<locals>.wrapper\u001b[1;34m(estimator, *args, **kwargs)\u001b[0m\n\u001b[0;32m   1145\u001b[0m     estimator\u001b[38;5;241m.\u001b[39m_validate_params()\n\u001b[1;32m-> 1147\u001b[0m \u001b[43m\u001b[49m\u001b[38;5;28;43;01mwith\u001b[39;49;00m\u001b[43m \u001b[49m\u001b[43mconfig_context\u001b[49m\u001b[43m(\u001b[49m\n\u001b[0;32m   1148\u001b[0m \u001b[43m    \u001b[49m\u001b[43mskip_parameter_validation\u001b[49m\u001b[38;5;241;43m=\u001b[39;49m\u001b[43m(\u001b[49m\n\u001b[0;32m   1149\u001b[0m \u001b[43m        \u001b[49m\u001b[43mprefer_skip_nested_validation\u001b[49m\u001b[43m \u001b[49m\u001b[38;5;129;43;01mor\u001b[39;49;00m\u001b[43m \u001b[49m\u001b[43mglobal_skip_validation\u001b[49m\n\u001b[0;32m   1150\u001b[0m \u001b[43m    \u001b[49m\u001b[43m)\u001b[49m\n\u001b[0;32m   1151\u001b[0m \u001b[43m\u001b[49m\u001b[43m)\u001b[49m\u001b[43m:\u001b[49m\n\u001b[0;32m   1152\u001b[0m \u001b[43m    \u001b[49m\u001b[38;5;28;43;01mreturn\u001b[39;49;00m\u001b[43m \u001b[49m\u001b[43mfit_method\u001b[49m\u001b[43m(\u001b[49m\u001b[43mestimator\u001b[49m\u001b[43m,\u001b[49m\u001b[43m \u001b[49m\u001b[38;5;241;43m*\u001b[39;49m\u001b[43margs\u001b[49m\u001b[43m,\u001b[49m\u001b[43m \u001b[49m\u001b[38;5;241;43m*\u001b[39;49m\u001b[38;5;241;43m*\u001b[39;49m\u001b[43mkwargs\u001b[49m\u001b[43m)\u001b[49m\n",
      "File \u001b[1;32m~\\anaconda3\\Lib\\contextlib.py:144\u001b[0m, in \u001b[0;36m_GeneratorContextManager.__exit__\u001b[1;34m(self, typ, value, traceback)\u001b[0m\n\u001b[0;32m    143\u001b[0m \u001b[38;5;28;01mtry\u001b[39;00m:\n\u001b[1;32m--> 144\u001b[0m     \u001b[38;5;28mnext\u001b[39m(\u001b[38;5;28mself\u001b[39m\u001b[38;5;241m.\u001b[39mgen)\n\u001b[0;32m    145\u001b[0m \u001b[38;5;28;01mexcept\u001b[39;00m \u001b[38;5;167;01mStopIteration\u001b[39;00m:\n",
      "File \u001b[1;32m~\\AppData\\Roaming\\Python\\Python311\\site-packages\\sklearn\\_config.py:353\u001b[0m, in \u001b[0;36mconfig_context\u001b[1;34m(assume_finite, working_memory, print_changed_only, display, pairwise_dist_chunk_size, enable_cython_pairwise_dist, array_api_dispatch, transform_output, enable_metadata_routing, skip_parameter_validation)\u001b[0m\n\u001b[0;32m    352\u001b[0m \u001b[38;5;28;01mtry\u001b[39;00m:\n\u001b[1;32m--> 353\u001b[0m     \u001b[38;5;28;01myield\u001b[39;00m\n\u001b[0;32m    354\u001b[0m \u001b[38;5;28;01mfinally\u001b[39;00m:\n",
      "\u001b[1;31mKeyboardInterrupt\u001b[0m: ",
      "\nDuring handling of the above exception, another exception occurred:\n",
      "\u001b[1;31mKeyboardInterrupt\u001b[0m                         Traceback (most recent call last)",
      "    \u001b[1;31m[... skipping hidden 1 frame]\u001b[0m\n",
      "File \u001b[1;32m~\\AppData\\Roaming\\Python\\Python311\\site-packages\\IPython\\core\\interactiveshell.py:2091\u001b[0m, in \u001b[0;36mInteractiveShell.showtraceback\u001b[1;34m(self, exc_tuple, filename, tb_offset, exception_only, running_compiled_code)\u001b[0m\n\u001b[0;32m   2088\u001b[0m     msg \u001b[38;5;241m=\u001b[39m traceback\u001b[38;5;241m.\u001b[39mformat_exception_only(etype, value)\n\u001b[0;32m   2089\u001b[0m     \u001b[38;5;28;01mreturn\u001b[39;00m \u001b[38;5;124m'\u001b[39m\u001b[38;5;124m'\u001b[39m\u001b[38;5;241m.\u001b[39mjoin(msg)\n\u001b[1;32m-> 2091\u001b[0m \u001b[38;5;28;01mdef\u001b[39;00m \u001b[38;5;21mshowtraceback\u001b[39m(\u001b[38;5;28mself\u001b[39m, exc_tuple\u001b[38;5;241m=\u001b[39m\u001b[38;5;28;01mNone\u001b[39;00m, filename\u001b[38;5;241m=\u001b[39m\u001b[38;5;28;01mNone\u001b[39;00m, tb_offset\u001b[38;5;241m=\u001b[39m\u001b[38;5;28;01mNone\u001b[39;00m,\n\u001b[0;32m   2092\u001b[0m                   exception_only\u001b[38;5;241m=\u001b[39m\u001b[38;5;28;01mFalse\u001b[39;00m, running_compiled_code\u001b[38;5;241m=\u001b[39m\u001b[38;5;28;01mFalse\u001b[39;00m):\n\u001b[0;32m   2093\u001b[0m \u001b[38;5;250m    \u001b[39m\u001b[38;5;124;03m\"\"\"Display the exception that just occurred.\u001b[39;00m\n\u001b[0;32m   2094\u001b[0m \n\u001b[0;32m   2095\u001b[0m \u001b[38;5;124;03m    If nothing is known about the exception, this is the method which\u001b[39;00m\n\u001b[1;32m   (...)\u001b[0m\n\u001b[0;32m   2101\u001b[0m \u001b[38;5;124;03m    SyntaxError exception, don't try to analyze the stack manually and\u001b[39;00m\n\u001b[0;32m   2102\u001b[0m \u001b[38;5;124;03m    simply call this method.\"\"\"\u001b[39;00m\n\u001b[0;32m   2104\u001b[0m     \u001b[38;5;28;01mtry\u001b[39;00m:\n",
      "\u001b[1;31mKeyboardInterrupt\u001b[0m: "
     ]
    }
   ],
   "source": [
    "import numpy as np\n",
    "import matplotlib.pyplot as plt\n",
    "from sklearn.linear_model import LinearRegression\n",
    "from sklearn.metrics import mean_squared_error\n",
    "from PIL import Image\n",
    "\n",
    "def random_fourier_features(X, n_features, sigma=1.0):\n",
    "    random_weights = np.random.normal(scale=1/sigma, size=(X.shape[1], n_features))\n",
    "    random_offset = np.random.uniform(0, 2*np.pi, size=n_features)\n",
    "    Z = np.sqrt(2/n_features) * np.cos(np.dot(X, random_weights) + random_offset)\n",
    "    return Z\n",
    "\n",
    "# Load and preprocess the image\n",
    "image_path = \"IMG.jpg\"  # Replace with your image path\n",
    "image = Image.open(image_path)\n",
    "image = image.resize((600, 600))  # Resize for faster computation\n",
    "img_array = np.array(image) / 255.0  # Normalize pixel values\n",
    "\n",
    "# Generate coordinate grid\n",
    "h, w, c = img_array.shape\n",
    "x, y = np.meshgrid(np.linspace(0, 1, w), np.linspace(0, 1, h))\n",
    "X = np.column_stack([x.ravel(), y.ravel()])\n",
    "\n",
    "# Generate RFF\n",
    "n_features = 1000\n",
    "Z = random_fourier_features(X, n_features)\n",
    "\n",
    "# Fit linear regression for each color channel\n",
    "reconstructed = np.zeros((h*w, c))\n",
    "for i in range(c):  # RGB channels\n",
    "    y = img_array[:,:,i].ravel()\n",
    "    model = LinearRegression()\n",
    "    model.fit(Z, y)\n",
    "    reconstructed[:,i] = model.predict(Z)\n",
    "\n",
    "# Reshape reconstructed image\n",
    "reconstructed = reconstructed.reshape(h, w, c)\n",
    "\n",
    "# Calculate RMSE and PSNR\n",
    "mse = mean_squared_error(img_array.reshape(-1), reconstructed.reshape(-1))\n",
    "rmse = np.sqrt(mse)\n",
    "psnr = 20 * np.log10(1.0 / rmse)\n",
    "\n",
    "# Display results\n",
    "fig, (ax1, ax2) = plt.subplots(1, 2, figsize=(12, 6))\n",
    "ax1.imshow(img_array)\n",
    "ax1.set_title(\"Original Image\")\n",
    "ax1.axis('off')\n",
    "\n",
    "ax2.imshow(reconstructed)\n",
    "ax2.set_title(\"Reconstructed Image\")\n",
    "ax2.axis('off')\n",
    "\n",
    "plt.suptitle(f\"RMSE: {rmse:.4f}, PSNR: {psnr:.2f} dB\")\n",
    "plt.tight_layout()\n",
    "plt.show()\n",
    "\n",
    "print(f\"Root Mean Squared Error (RMSE): {rmse:.4f}\")\n",
    "print(f\"Peak Signal-to-Noise Ratio (PSNR): {psnr:.2f} dB\")"
   ]
  },
  {
   "cell_type": "code",
   "execution_count": null,
   "id": "e513bf6b-0f5e-4859-93a2-b4e69dbca630",
   "metadata": {},
   "outputs": [],
   "source": []
  }
 ],
 "metadata": {
  "kernelspec": {
   "display_name": "Python 3 (ipykernel)",
   "language": "python",
   "name": "python3"
  },
  "language_info": {
   "codemirror_mode": {
    "name": "ipython",
    "version": 3
   },
   "file_extension": ".py",
   "mimetype": "text/x-python",
   "name": "python",
   "nbconvert_exporter": "python",
   "pygments_lexer": "ipython3",
   "version": "3.11.5"
  }
 },
 "nbformat": 4,
 "nbformat_minor": 5
}
