{
 "cells": [
  {
   "cell_type": "code",
   "execution_count": null,
   "id": "5ff5f271-0a75-454e-9cf4-97fa1f709573",
   "metadata": {},
   "outputs": [],
   "source": []
  }
 ],
 "metadata": {
  "kernelspec": {
   "display_name": "Python 3 (ipykernel)",
   "language": "python",
   "name": "python3"
  },
  "language_info": {
   "name": ""
  }
 },
 "nbformat": 4,
 "nbformat_minor": 5
}
